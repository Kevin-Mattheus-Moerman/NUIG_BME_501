{
 "cells": [
  {
   "cell_type": "markdown",
   "metadata": {
    "slideshow": {
     "slide_type": "slide"
    }
   },
   "source": [
    "[**Dr. Kevin M. Moerman**](mailto:kevin.moerman@nuigalway.ie), _Lecturer in Biomedical Engineering_   \n",
    "\n",
    "National University of Ireland Galway.   \n",
    "\n",
    "---"
   ]
  },
  {
   "cell_type": "markdown",
   "metadata": {
    "slideshow": {
     "slide_type": "skip"
    }
   },
   "source": [
    "\\newpage"
   ]
  },
  {
   "cell_type": "markdown",
   "metadata": {
    "slideshow": {
     "slide_type": "skip"
    }
   },
   "source": [
    "This is an [Octave](https://www.gnu.org/software/octave/) (an open source alternative to MATLAB) [Jupyter notebook](https://jupyter.org/)"
   ]
  },
  {
   "cell_type": "markdown",
   "metadata": {
    "slideshow": {
     "slide_type": "skip"
    }
   },
   "source": [
    "\\newpage"
   ]
  },
  {
   "cell_type": "markdown",
   "metadata": {
    "slideshow": {
     "slide_type": "slide"
    }
   },
   "source": [
    "# The Newton-raphson method\n"
   ]
  },
  {
   "cell_type": "code",
   "execution_count": 1,
   "metadata": {},
   "outputs": [
    {
     "name": "stdout",
     "output_type": "stream",
     "text": [
      "x =  2\n",
      "ans =  1.5455\n",
      "ans =  1.3596\n",
      "ans =  1.3258\n",
      "ans =  1.3247\n"
     ]
    },
    {
     "data": {
      "image/png": "[encoded data removed]",
      "text/plain": [
       "<IPython.core.display.Image object>"
      ]
     },
     "metadata": {},
     "output_type": "display_data"
    }
   ],
   "source": [
    "a=1.00;\n",
    "x=2;\n",
    "f=@(x) x.^3-x-a;\n",
    "df=@(x) 3*x.^2-1;\n",
    "\n",
    "xx=linspace(-3,3,100);\n",
    "yy=f(xx);\n",
    "\n",
    "figure; hold on;\n",
    "xlabel('x'); ylabel('f(x)');\n",
    "plot(xx,yy,'k-','LineWidth',2);\n",
    "plot(x,f(x),'b.','MarkerSize',25);\n",
    "\n",
    "axis square; axis tight;\n",
    "grid on; box on; \n",
    "set(gca,'FontSize',25);\n",
    "axis manual;\n",
    "drawnow;\n",
    "\n",
    "tolLevel=0.0001;\n",
    "hp=[];\n",
    "x\n",
    "\n",
    "for q=1:100\n",
    "    x(q+1)=x(q)-f(x(q))/df(x(q));\n",
    "    e=abs((x(q+1)-x(q))/x(q));\n",
    "    if e<tolLevel\n",
    "        break\n",
    "    end\n",
    "        \n",
    "    x(end)\n",
    "    \n",
    "    plot(x(end),f(x(end)),'r+','MarkerSize',30);\n",
    "    delete(hp);\n",
    "    hp=plot(xx,(df(x(end-1)).*xx-df(x(end-1))*x(end-1))+f(x(end-1)),'g-','LineWidth',1);\n",
    "    drawnow;\n",
    "%     pause(1);\n",
    "    \n",
    "end\n"
   ]
  }
 ],
 "metadata": {
  "@webio": {
   "lastCommId": null,
   "lastKernelId": null
  },
  "celltoolbar": "Slideshow",
  "kernelspec": {
   "display_name": "Octave",
   "language": "octave",
   "name": "octave"
  },
  "language_info": {
   "file_extension": ".m",
   "help_links": [
    {
     "text": "GNU Octave",
     "url": "https://www.gnu.org/software/octave/support.html"
    },
    {
     "text": "Octave Kernel",
     "url": "https://github.com/Calysto/octave_kernel"
    },
    {
     "text": "MetaKernel Magics",
     "url": "https://metakernel.readthedocs.io/en/latest/source/README.html"
    }
   ],
   "mimetype": "text/x-octave",
   "name": "octave",
   "version": "5.2.0"
  },
  "rise": {
   "enable_chalkboard": true
  }
 },
 "nbformat": 4,
 "nbformat_minor": 2
}
