{
 "cells": [
  {
   "cell_type": "markdown",
   "metadata": {
    "slideshow": {
     "slide_type": "slide"
    }
   },
   "source": [
    "[**Dr. Kevin M. Moerman**](mailto:kevin.moerman@nuigalway.ie), _Lecturer in Biomedical Engineering_   \n",
    "\n",
    "National University of Ireland Galway.   \n",
    "\n",
    "---"
   ]
  },
  {
   "cell_type": "markdown",
   "metadata": {
    "slideshow": {
     "slide_type": "skip"
    }
   },
   "source": [
    "\\newpage"
   ]
  },
  {
   "cell_type": "markdown",
   "metadata": {
    "slideshow": {
     "slide_type": "skip"
    }
   },
   "source": [
    "This is an [Octave](https://www.gnu.org/software/octave/) (an open source alternative to MATLAB) [Jupyter notebook](https://jupyter.org/)"
   ]
  },
  {
   "cell_type": "markdown",
   "metadata": {
    "slideshow": {
     "slide_type": "slide"
    }
   },
   "source": [
    "# Vectors and dot products\n",
    "\n",
    "* The dot product between two vectors yields a scalar:   \n",
    "$$c=\\mathbf{a} \\cdot \\mathbf{b}$$   \n",
    "   \n",
    "   \n",
    "* In component notation the dot product can be written: \n",
    "$$c=a_1 b_1 + a_2 b_2 + a_3 b_3$$   \n",
    "   \n",
    "   \n",
    "* Alternatively if repeated indices are summed over we may write (Einstein summation convention): \n",
    "$$c=a_i b_i$$"
   ]
  },
  {
   "cell_type": "markdown",
   "metadata": {
    "slideshow": {
     "slide_type": "slide"
    }
   },
   "source": [
    "### DIY numerical implementation"
   ]
  },
  {
   "cell_type": "code",
   "execution_count": 206,
   "metadata": {
    "slideshow": {
     "slide_type": "fragment"
    }
   },
   "outputs": [
    {
     "name": "stdout",
     "output_type": "stream",
     "text": [
      "a =\n",
      "\n",
      "   2\n",
      "   0\n",
      "   0\n",
      "\n",
      "b =\n",
      "\n",
      "   1\n",
      "   0\n",
      "   0\n",
      "\n",
      "c =  2\n",
      "c =  2\n",
      "c =  2\n"
     ]
    }
   ],
   "source": [
    "%Computing dot products between two vectors. Three methods are provided\n",
    "\n",
    "a=[2 0 0]' %Creating a column vector (note transpose operator ')\n",
    "b=[1 0 0]' %Creating a column vector (note transpose operator ')\n",
    "\n",
    "%Computing the dot product method 1 \n",
    "c=a(1)*b(1)+a(2)*b(2)+a(3)*b(3)\n",
    "\n",
    "%Computing the dot product method 2\n",
    "c=sum(a.*b) %This takes the sum of the elementwise product\n",
    "\n",
    "%Using the default \"dot\" function instead\n",
    "c=dot(a,b) %The dot product of a and b "
   ]
  },
  {
   "cell_type": "markdown",
   "metadata": {
    "slideshow": {
     "slide_type": "slide"
    }
   },
   "source": [
    "# Base vectors\n",
    "We can formulate a set (a triplet) of so called _base vectors_ as follows \n",
    "$$\\mathbf{\\mathcal{E}}=\\{\\mathbf{e}_1,\\mathbf{e}_2,\\mathbf{e}_3\\}$$\n",
    "\n",
    "The base vectors are _unit vectors_ i.e., their lenght is 1 such that: \n",
    "$$|\\mathbf{e}_i|=1$$\n",
    "\n",
    "Furthermore they define a coordinate sytem and are mutually orthogonal such that:\n",
    "$$\\mathbf{e}_i \\cdot \\mathbf{e}_j=\\begin{cases} 1 & i=j \\\\ 0 & i \\neq j \\end{cases}$$\n",
    "\n",
    "This offers one means to define the Kronecker delta, which is a useful operator for later developments:\n",
    "$$\\delta_{ij}=\\mathbf{e}_i \\cdot \\mathbf{e}_j$$\n",
    "\n",
    "If one thinks of $\\mathbf{e}_1$, $\\mathbf{e}_2$, and $\\mathbf{e}_3$ as playing the role of the $x$, $y$, and $z$ axis, then in a regular system one would write them:    \n",
    "\n",
    "$\\mathbf{e}_1=\\begin{bmatrix} 1 \\\\ 0 \\\\ 0\\end{bmatrix}$, and $\\mathbf{e}_2=\\begin{bmatrix} 0 \\\\ 1 \\\\ 0\\end{bmatrix}$, and $\\mathbf{e}_3=\\begin{bmatrix} 0 \\\\ 0 \\\\ 1\\end{bmatrix}$ \n"
   ]
  },
  {
   "cell_type": "markdown",
   "metadata": {
    "slideshow": {
     "slide_type": "slide"
    }
   },
   "source": [
    "### DIY numerical implementation"
   ]
  },
  {
   "cell_type": "code",
   "execution_count": 207,
   "metadata": {
    "slideshow": {
     "slide_type": "fragment"
    }
   },
   "outputs": [
    {
     "name": "stdout",
     "output_type": "stream",
     "text": [
      "ans = 0\n",
      "ans =  1\n"
     ]
    }
   ],
   "source": [
    "e1=[1 0 0]'; e2=[0 1 0]'; e3=[0 0 1]'; % The base vectors\n",
    "dot(e1,e2) % dot product e1 and e2\n",
    "dot(e1,e1) % dot product e1 and e1"
   ]
  },
  {
   "cell_type": "markdown",
   "metadata": {
    "slideshow": {
     "slide_type": "slide"
    }
   },
   "source": [
    "## Constructing vectors using base vectors\n",
    "Any vector can be composed of a combination of their scalar components with these base vectors: \n",
    "\n",
    "$$\\mathbf{a}=a_1 \\mathbf{e}_1+a_2 \\mathbf{e}_2+a_3 \\mathbf{e}_3=a_i \\mathbf{e_i}$$"
   ]
  },
  {
   "cell_type": "markdown",
   "metadata": {
    "slideshow": {
     "slide_type": "slide"
    }
   },
   "source": [
    "### DIY numerical implementation"
   ]
  },
  {
   "cell_type": "code",
   "execution_count": 208,
   "metadata": {
    "slideshow": {
     "slide_type": "fragment"
    }
   },
   "outputs": [
    {
     "name": "stdout",
     "output_type": "stream",
     "text": [
      "a =\r\n",
      "\r\n",
      "   3.1416\r\n",
      "   1.0000\r\n",
      "   2.5000\r\n",
      "\r\n"
     ]
    }
   ],
   "source": [
    "a_1=pi; a_2=1; a_3=2.5; % The components of a vector\n",
    "e_1=[1 0 0]'; e_2=[0 1 0]'; e_3=[0 0 1]'; % The base vectors\n",
    "a=a_1.*e_1+a_2.*e_2+a_3.*e_3 % Constructing the vector"
   ]
  },
  {
   "cell_type": "markdown",
   "metadata": {
    "slideshow": {
     "slide_type": "slide"
    }
   },
   "source": [
    "## \"Picking out\" vector components using base vectors\n",
    "Dot products between vectors and a base vector \"pick out\" the corresponding components:   \n",
    "$$a_i=\\mathbf{a} \\cdot \\mathbf{e}_i$$\n",
    "\n",
    "For instance for the first component:\n",
    "$$a_1=\\mathbf{a}\\cdot \\mathbf{e_1} =a_1\\cdot1 + a_2\\cdot0 + a_3\\cdot0$$\n",
    "Therefore if $\\mathbf{e}_1$ would be labelled the x-axis then this components would be the x-component of $\\mathbf{a}$. \n",
    "So when one sees a dot product like this you can think of it as \"measuring\" the vector allong direction $\\mathbf{e}_i$"
   ]
  },
  {
   "cell_type": "markdown",
   "metadata": {
    "slideshow": {
     "slide_type": "slide"
    }
   },
   "source": [
    "### DIY numerical implementation"
   ]
  },
  {
   "cell_type": "code",
   "execution_count": 209,
   "metadata": {
    "slideshow": {
     "slide_type": "fragment"
    }
   },
   "outputs": [
    {
     "name": "stdout",
     "output_type": "stream",
     "text": [
      "a_1 =  3.1416\r\n"
     ]
    }
   ],
   "source": [
    "a=[pi 1 2.5]'; % Define vector\n",
    "e1=[1 0 0]'; % Base vector\n",
    "a_1=dot(a,e1) % Use base vector to \"pick out a component\" or \"measure allong\" or \"project onto\""
   ]
  },
  {
   "cell_type": "markdown",
   "metadata": {
    "slideshow": {
     "slide_type": "slide"
    }
   },
   "source": [
    "## The dyadic (or tensor) product\n",
    "The dyadic (or tensor) product, denoted using the symbol $\\otimes$ for two vectors e.g. $\\mathbf{a}$ and $\\mathbf{b}$ is defined as:\n",
    "  \n",
    "  \n",
    "$$\\mathbf{C}=\\mathbf{a} \\otimes \\mathbf{b}=\\begin{bmatrix} a_1b_1 & a_1b_2 & a_1b_3\\\\ a_2b_1 & a_2b_2 & a_2b_3 \\\\ a_3b_1 & a_3b_2 & a_3b_3\\end{bmatrix}=\\mathbf{a}\\mathbf{b}^\\top$$\n"
   ]
  },
  {
   "cell_type": "markdown",
   "metadata": {
    "slideshow": {
     "slide_type": "slide"
    }
   },
   "source": [
    "### DIY numerical implementation"
   ]
  },
  {
   "cell_type": "code",
   "execution_count": 210,
   "metadata": {
    "slideshow": {
     "slide_type": "fragment"
    }
   },
   "outputs": [
    {
     "name": "stdout",
     "output_type": "stream",
     "text": [
      "a =\n",
      "\n",
      "   1\n",
      "   2\n",
      "   3\n",
      "\n",
      "b =\n",
      "\n",
      "   4\n",
      "   5\n",
      "   6\n",
      "\n",
      "C =\n",
      "\n",
      "    4    5    6\n",
      "    8   10   12\n",
      "   12   15   18\n",
      "\n"
     ]
    }
   ],
   "source": [
    "%A set of column vectors\n",
    "a=[1 2 3]'\n",
    "b=[4 5 6]' \n",
    "C=a*b' %The dyadic product of the two vectors -> a times b transposed"
   ]
  },
  {
   "cell_type": "code",
   "execution_count": 211,
   "metadata": {
    "slideshow": {
     "slide_type": "slide"
    }
   },
   "outputs": [
    {
     "name": "stdout",
     "output_type": "stream",
     "text": [
      "C =\r\n",
      "\r\n",
      "    4    5    6\r\n",
      "    8   10   12\r\n",
      "   12   15   18\r\n",
      "\r\n"
     ]
    }
   ],
   "source": [
    "%Create a \"dyadic\" product function to use elsewhere in the code\n",
    "\n",
    "%Creating a so-called \"anonymous function\" for the dyadic product\n",
    "dyadic = @(a,b) a*b'; \n",
    "\n",
    "%Testing the function\n",
    "a=[1 2 3]'; b=[4 5 6]'; %A set of column vectors\n",
    "C=dyadic(a,b)  %The dyadic product of the two vectors -> a times b transposed"
   ]
  },
  {
   "cell_type": "markdown",
   "metadata": {
    "slideshow": {
     "slide_type": "slide"
    }
   },
   "source": [
    "### The dyadic product for base vectors\n",
    "Given the rules outlined we can study dyadic products for base vectors e.g.:   \n",
    "\n",
    "$\\mathbf{e}_1 \\otimes \\mathbf{e}_1=\\begin{bmatrix} 1 & 0 & 0\\\\ 0 & 0 & 0 \\\\ 0 & 0 & 0\\end{bmatrix}$, and $\\mathbf{e}_2 \\otimes \\mathbf{e}_2=\\begin{bmatrix} 0 & 0 & 0\\\\ 0 & 1 & 0 \\\\ 0 & 0 & 0\\end{bmatrix}$, and $\\mathbf{e}_3 \\otimes \\mathbf{e}_3=\\begin{bmatrix} 0 & 0 & 0\\\\ 0 & 0 & 0 \\\\ 0 & 0 & 1\\end{bmatrix}$, and $\\mathbf{e}_3 \\otimes \\mathbf{e}_1=\\begin{bmatrix} 0 & 0 & 0\\\\ 0 & 0 & 0 \\\\ 1 & 0 & 0\\end{bmatrix}$\n",
    "\n",
    "Which leads us to the definition of the identity tensor $\\mathbf{I}$: \n",
    "$$\\mathbf{I}=\\mathbf{e}_i \\otimes \\mathbf{e}_i$$\n",
    "$$I_{ij}=\\mathbf{e}_i \\cdot \\mathbf{e}_j=\\delta_{ij}$$\n",
    "The indenty tensor can be seen as playing the role of 1 since it leaves vectors and tensors unchanged after multiplication e.g.: \n",
    "$$\\mathbf{a}=\\mathbf{a}\\mathbf{I}=\\mathbf{I}\\mathbf{a}$$\n",
    "$$\\mathbf{A}=\\mathbf{A}\\mathbf{I}=\\mathbf{I}\\mathbf{A}$$"
   ]
  },
  {
   "cell_type": "markdown",
   "metadata": {
    "slideshow": {
     "slide_type": "slide"
    }
   },
   "source": [
    "### DIY numerical implementation"
   ]
  },
  {
   "cell_type": "code",
   "execution_count": 212,
   "metadata": {
    "slideshow": {
     "slide_type": "fragment"
    }
   },
   "outputs": [
    {
     "name": "stdout",
     "output_type": "stream",
     "text": [
      "e11 =\n",
      "\n",
      "   1   0   0\n",
      "   0   0   0\n",
      "   0   0   0\n",
      "\n",
      "e22 =\n",
      "\n",
      "   0   0   0\n",
      "   0   1   0\n",
      "   0   0   0\n",
      "\n",
      "e33 =\n",
      "\n",
      "   0   0   0\n",
      "   0   0   0\n",
      "   0   0   1\n",
      "\n",
      "I =\n",
      "\n",
      "   1   0   0\n",
      "   0   1   0\n",
      "   0   0   1\n",
      "\n"
     ]
    }
   ],
   "source": [
    "e1=[1 0 0]'; e2=[0 1 0]'; e3=[0 0 1]'; % Base vectors\n",
    "e11=e1*e1' % Dyadic product between e1 and itself\n",
    "e22=e2*e2' % Dyadic product between e2 and itself\n",
    "e33=e3*e3' % Dyadic product between e3 and itself\n",
    "I=e11+e22+e33 % Compose identity tensor, equivalent to: I=eye(3,3)"
   ]
  },
  {
   "cell_type": "markdown",
   "metadata": {
    "slideshow": {
     "slide_type": "slide"
    }
   },
   "source": [
    "## Constructing tensors using base vectors\n",
    "Any 2nd order tensor can be composed of a combination of their scalar components with the base vectors. \n",
    "$$\\mathbf{A}=A_{ij} \\mathbf{e}_i \\otimes \\mathbf{e}_j$$"
   ]
  },
  {
   "cell_type": "markdown",
   "metadata": {
    "slideshow": {
     "slide_type": "slide"
    }
   },
   "source": [
    "### DIY numerical implementation"
   ]
  },
  {
   "cell_type": "code",
   "execution_count": 213,
   "metadata": {
    "slideshow": {
     "slide_type": "fragment"
    }
   },
   "outputs": [
    {
     "name": "stdout",
     "output_type": "stream",
     "text": [
      "A =\r\n",
      "\r\n",
      "   3.14159   5.00000   0.10000\r\n",
      "  -1.00000   3.00000   6.00000\r\n",
      "   0.00000   2.00000  -7.00000\r\n",
      "\r\n"
     ]
    }
   ],
   "source": [
    "A_11=pi; A_12=5; A_13=0.1; % tensor components\n",
    "A_21=-1; A_22=3; A_23=6;  % tensor components\n",
    "A_31= 0; A_32=2; A_33=-7;  % tensor components\n",
    "\n",
    "e1=[1 0 0]'; e2=[0 1 0]'; e3=[0 0 1]'; % Base vectors\n",
    "\n",
    "A =     A_11*(e1*e1') + A_12*(e1*e2') + A_13*(e1*e3'); % First row\n",
    "A = A + A_21*(e2*e1') + A_22*(e2*e2') + A_23*(e2*e3'); % Second row\n",
    "A = A + A_31*(e3*e1') + A_32*(e3*e2') + A_33*(e3*e3'); % Third row\n",
    "\n",
    "A %Show A"
   ]
  },
  {
   "cell_type": "markdown",
   "metadata": {
    "slideshow": {
     "slide_type": "fragment"
    }
   },
   "source": [
    "## \"Picking out\" tensor components using base vectors\n",
    "Remember construction:\n",
    "$$\\mathbf{A}=A_{ij} \\mathbf{e}_i \\otimes \\mathbf{e}_j$$\n",
    "\n",
    "Again dot products (\"contractions\") with base vectors help \"pick out\" the corresponding components:   \n",
    "$$A_{ij}=(\\mathbf{A}\\mathbf{e}_j) \\cdot \\mathbf{e}_i=\\mathbf{A}:(\\mathbf{e}_i \\otimes \\mathbf{e}_j)$$\n"
   ]
  },
  {
   "cell_type": "markdown",
   "metadata": {
    "slideshow": {
     "slide_type": "slide"
    }
   },
   "source": [
    "### DIY numerical implementation"
   ]
  },
  {
   "cell_type": "code",
   "execution_count": 214,
   "metadata": {
    "slideshow": {
     "slide_type": "fragment"
    }
   },
   "outputs": [
    {
     "name": "stdout",
     "output_type": "stream",
     "text": [
      "A =\n",
      "\n",
      "   1   2   3\n",
      "   4   5   6\n",
      "   7   8   9\n",
      "\n",
      "A_13 =  3\n",
      "A_13 =  3\n"
     ]
    }
   ],
   "source": [
    "A=[1 2 3; 4 5 6; 7 8 9] %Example second order tensor\n",
    "e1=[1 0 0]'; e2=[0 1 0]'; e3=[0 0 1]'; % Base vectors\n",
    "\n",
    "%\"Dotted twice\"\n",
    "A_13=dot(A*e3,e1) % Pick out component 1,3\n",
    "\n",
    "%Alternative approach\n",
    "A_13=sum(sum(A.*(e1*e3'))) %Sum of element wise product with dyadic-13 tensor"
   ]
  },
  {
   "cell_type": "markdown",
   "metadata": {
    "slideshow": {
     "slide_type": "slide"
    }
   },
   "source": [
    "# Rotation tensors\n",
    "## The rotation tensor for rotating a 3D vector\n",
    "A 2nd order rotation tensor is can be used to rotate vectors and 2nd order tensors. \n",
    "Consider the vector:    \n",
    "$$\\mathbf{a}=\\begin{bmatrix} 1 & 0 & 0 \\end{bmatrix}^\\top$$\n",
    "\n",
    "If $\\mathbf{a}$ it were rotated by 45 degrees anti-clockwise around the $\\mathbf{e}_3$ (e.g. a _z_ axis) then the rotated version $\\mathbf{a}'$would be:   \n",
    "\n",
    "$$\\mathbf{a}'=\\begin{bmatrix} \\frac{\\sqrt{2}}{2} & \\frac{\\sqrt{2}}{2} & 0 \\end{bmatrix}^\\top$$\n",
    "\n",
    "To derive $\\mathbf{a}'$ one could compute: \n",
    "$$a'_1=\\cos(\\frac{\\pi}{4}) \\cdot a_1 - \\sin(\\frac{\\pi}{4}) \\cdot a_2$$\n",
    "$$a'_2=\\sin(\\frac{\\pi}{4}) \\cdot a_1 + \\cos(\\frac{\\pi}{4}) \\cdot a_2$$\n"
   ]
  },
  {
   "cell_type": "markdown",
   "metadata": {
    "slideshow": {
     "slide_type": "fragment"
    }
   },
   "source": [
    "Alternatively we can write this operation using the rotation tensor $\\mathbf{R}$:  \n",
    "\n",
    "$$\\mathbf{a}'=\\mathbf{R}\\mathbf{a}=\\begin{bmatrix} \\cos(\\frac{\\pi}{4}) & -\\sin(\\frac{\\pi}{4}) & 0 \\\\ \\sin(\\frac{\\pi}{4}) & \\cos(\\frac{\\pi}{4}) & 0 \\\\ 0 & 0 & 1\\end{bmatrix}\\begin{bmatrix} 1 \\\\ 0 \\\\ 0\\end{bmatrix}=\\begin{bmatrix} \\cos(\\frac{\\pi}{4}) \\cdot a_1 -\\sin(\\frac{\\pi}{4}) \\cdot a_2 \\\\ \\sin(\\frac{\\pi}{4}) \\cdot a_1  + \\cos(\\frac{\\pi}{4}) \\cdot a_2 \\\\ 0\\end{bmatrix}=\\begin{bmatrix} \\frac{\\sqrt{2}}{2} \\\\ \\frac{\\sqrt{2}}{2} \\\\ 0 \\end{bmatrix}$$\n",
    "\n",
    "For a general rotation of angle $\\alpha$ around $\\mathbf{e}_3$ we see:\n",
    "$$\\mathbf{R}\\mathbf{a}=\\begin{bmatrix} \\cos(\\alpha) & -\\sin(\\alpha) & 0 \\\\ \\sin(\\alpha) & \\cos(\\alpha) & 0 \\\\ 0 & 0 & 1\\end{bmatrix}\\begin{bmatrix} a_1 \\\\ a_2 \\\\ a_3\\end{bmatrix}=\\begin{bmatrix} \\cos(\\alpha) \\cdot a_1 -\\sin(\\alpha) \\cdot a_2 \\\\ \\sin(\\alpha) \\cdot a_1  + \\cos(\\alpha) \\cdot a_2 \\\\ 0\\end{bmatrix}$$\n",
    " \n",
    "If a rotation is around one of the base vectors e.g. the $n^{th}$ base vector, then $R_{nn}$ is 1 while the other components in the $n^{th}$ row and column are 0. \n",
    "\n",
    "Note: The [Wikipedia article on rotation matrices](https://en.wikipedia.org/wiki/Rotation_matrix) is quite good. "
   ]
  },
  {
   "cell_type": "markdown",
   "metadata": {
    "slideshow": {
     "slide_type": "slide"
    }
   },
   "source": [
    "### DIY numerical implementation"
   ]
  },
  {
   "cell_type": "code",
   "execution_count": 215,
   "metadata": {
    "slideshow": {
     "slide_type": "fragment"
    }
   },
   "outputs": [
    {
     "name": "stdout",
     "output_type": "stream",
     "text": [
      "a =\n",
      "\n",
      "   1\n",
      "   0\n",
      "   0\n",
      "\n",
      "R =\n",
      "\n",
      "   0.70711  -0.70711   0.00000\n",
      "   0.70711   0.70711   0.00000\n",
      "   0.00000   0.00000   1.00000\n",
      "\n",
      "a_p =\n",
      "\n",
      "   0.70711\n",
      "   0.70711\n",
      "   0.00000\n",
      "\n"
     ]
    }
   ],
   "source": [
    "a=[1 0 0]' % A vector\n",
    "alpha=pi/4; % The rotation angle (radians) around e3\n",
    "\n",
    "R=[cos(alpha) -sin(alpha) 0;...\n",
    "   sin(alpha)  cos(alpha) 0;...\n",
    "   0           0          1] % Rotation tensor\n",
    "   \n",
    "a_p=R*a % Same as: (a'*R')'"
   ]
  },
  {
   "cell_type": "markdown",
   "metadata": {},
   "source": [
    "Some properties of rotation tensors:\n",
    "\n",
    "* The transpose of the rotation matrix is the same as its inverse\n",
    "$$\\mathbf{R}^{-1}=\\mathbf{R}^\\top$$\n",
    "\n",
    "* Which means multiplication with transpose yields the identity matrix:\n",
    "$$\\mathbf{R}\\mathbf{R}^\\top=\\mathbf{R}^\\top\\mathbf{R}=\\mathbf{R}\\mathbf{R}^{-1}=\\mathbf{R}^{-1}\\mathbf{R}=\\mathbf{I}$$\n",
    "\n",
    "* Rotation can be done as \"pre\" or \"post\" rotation\n",
    "$$\\mathbf{a}'=\\mathbf{R}\\mathbf{a}=(\\mathbf{a}^\\top \\mathbf{R}^\\top)^\\top$$"
   ]
  },
  {
   "cell_type": "markdown",
   "metadata": {
    "slideshow": {
     "slide_type": "slide"
    }
   },
   "source": [
    "## Rotating sets of coordinates\n",
    "An array of coordinates e.g. an nx3 array of n 3D nodes, is essentially a collection of position vectors and can be rotated using a rotation matrix. \n",
    "\n",
    "For instance a $n \\times 3$ coordinate array $\\begin{Bmatrix} \\mathbf{X} \\end{Bmatrix}$ is rotated using: \n",
    "\n",
    "$$\\begin{Bmatrix} \\mathbf{X} \\end{Bmatrix}'=\\begin{Bmatrix} \\mathbf{X} \\end{Bmatrix}\\mathbf{R}^\\top$$"
   ]
  },
  {
   "cell_type": "markdown",
   "metadata": {
    "slideshow": {
     "slide_type": "slide"
    }
   },
   "source": [
    "### DIY numerical implementation"
   ]
  },
  {
   "cell_type": "code",
   "execution_count": 216,
   "metadata": {
    "slideshow": {
     "slide_type": "fragment"
    }
   },
   "outputs": [
    {
     "data": {
      "image/png": "[encoded data removed]",
      "text/plain": [
       "<IPython.core.display.Image object>"
      ]
     },
     "metadata": {},
     "output_type": "display_data"
    }
   ],
   "source": [
    "alpha=pi/4; % The rotation angle around e3\n",
    "\n",
    "% Create a cube\n",
    "X=[-1;  1; 1; -1; -1;  1; 1; -1;]; % X coordinates\n",
    "Y=[-1; -1; 1;  1; -1; -1; 1;  1;]; % Y coordinates\n",
    "Z=[-1; -1;-1; -1;  1;  1; 1;  1;]; % Z coordinates\n",
    "V=[X(:) Y(:) Z(:)];\n",
    "\n",
    "R=[cos(alpha) -sin(alpha) 0; sin(alpha)  cos(alpha)  0; 0 0 1]; % Rotation tensor\n",
    "\n",
    "V2=V*R'; % Rotate\n",
    "\n",
    "% Visualize\n",
    "l=[1 2 3 4 1 5 6 7 8 5 6 2 3 7 8 4]; % Line description for plot\n",
    "figure; hold on; % Open figure\n",
    "plot3(V(l,1),V(l,2),V(l,3),'b.-','MarkerSize',30,'LineWidth',10); % Plot initial\n",
    "plot3(V2(l,1),V2(l,2),V2(l,3),'r.-','MarkerSize',30,'LineWidth',10); % Plot final\n",
    "view(3); axis equal; axis tight; box on; % Axis settings\n"
   ]
  },
  {
   "cell_type": "markdown",
   "metadata": {
    "slideshow": {
     "slide_type": "slide"
    }
   },
   "source": [
    "## Rotating 2nd order tensors\n",
    "Rotation of a second order tensor $\\mathbf{A}$ with a rotation tensor $\\mathbf{R}$ is written:\n",
    "\n",
    "$$\\mathbf{A}'=\\mathbf{R}\\mathbf{A}\\mathbf{R}^\\top$$\n",
    "\n",
    "So why the aparent \"double rotation\"? How to understand this pre- and post-rotation? \n",
    "\n",
    "Remember construction of vectors and tensor with the base vectors:\n",
    "$$\\mathbf{a}=a_i \\mathbf{e}_i$$\n",
    "$$\\mathbf{A}=A_{ij} \\mathbf{e}_i \\otimes \\mathbf{e}_j$$\n",
    "It shows vector components involve 1 base vector while tensor components feature 2. The \"double-rotation\" can therefore be grasped in terms of the pre-rotation rotating the first base-vector while the post-rotation rotates the second. \n",
    "\n",
    "$$\\mathbf{A}'=A_{ij} \\mathbf{R}(\\mathbf{e}_i \\otimes \\mathbf{e}_j)\\mathbf{R}^\\top=A_{ij} (\\mathbf{R}\\mathbf{e}_i) \\otimes (\\mathbf{e}_j\\mathbf{R}^\\top)$$"
   ]
  },
  {
   "cell_type": "markdown",
   "metadata": {
    "slideshow": {
     "slide_type": "slide"
    }
   },
   "source": [
    "### Double contraction with other tensors\n",
    "As mentioned before the double contaction can be thought of as picking out a component if this occurs using a dyadic product of base tensors. However if a different vector is used it measures things allong that vector instead.  \n",
    "E.g. an example is the calculation of deformation allong a fibre direction vector such as $\\mathbf{m}$. A so called structure tensor $\\mathbf{M}$ can be constructed: \n",
    "$$\\mathbf{M}=\\mathbf{m} \\otimes \\mathbf{m}$$\n",
    "\n",
    "Next the double contraction of this tensor with a deformation tensor e.g. $\\mathbf{U}$ gives the \"stuff acting\" or the \"component\" allong the direction $\\mathbf{m}$. \n",
    "\n",
    "$$u_m=(\\mathbf{U}\\mathbf{m}) \\cdot \\mathbf{m}=\\mathbf{U} : \\mathbf{m} \\otimes \\mathbf{m}=\\mathbf{U} : \\mathbf{M}=U_{ij}M_{ij}$$\n"
   ]
  },
  {
   "cell_type": "markdown",
   "metadata": {
    "slideshow": {
     "slide_type": "slide"
    }
   },
   "source": [
    "### DIY numerical implementation"
   ]
  },
  {
   "cell_type": "code",
   "execution_count": 217,
   "metadata": {
    "slideshow": {
     "slide_type": "fragment"
    }
   },
   "outputs": [
    {
     "name": "stdout",
     "output_type": "stream",
     "text": [
      "Up =\n",
      "\n",
      "   2   0   0\n",
      "   0   1   0\n",
      "   0   0   1\n",
      "\n",
      "U =\n",
      "\n",
      "   1.50000   0.50000   0.00000\n",
      "   0.50000   1.50000   0.00000\n",
      "   0.00000   0.00000   1.00000\n",
      "\n",
      "n =\n",
      "\n",
      "   0.70711\n",
      "   0.70711\n",
      "   0.00000\n",
      "\n",
      "un =  2\n"
     ]
    }
   ],
   "source": [
    "R=[cos(pi/4) -sin(pi/4) 0;...\n",
    "   sin(pi/4)  cos(pi/4) 0;...\n",
    "   0          0         1]; % Rotation tensor for 45 degrees around Z\n",
    "Up=[2 0 0; 0 1 0; 0 0 1] % Unrotated version of U\n",
    "U=R*Up*R' % Rotated version of U\n",
    "n=R*[1 0 0]' % Direction vector (e.g. a fibre direction) rotated anti-clockwise 45 deg. in XY-plane\n",
    "un=dot(U*n,n) %\"Double dot product\" or \"contraction\""
   ]
  },
  {
   "cell_type": "markdown",
   "metadata": {
    "slideshow": {
     "slide_type": "slide"
    }
   },
   "source": [
    "## The gradient of a vector field\n",
    "For the vector quantity $\\mathbf{u}$ the so-called gradient is defined as: \n",
    "$$\\mathbf{\\nabla}\\mathbf{u}=\\mathbf{\\nabla} \\otimes \\mathbf{u}=\\frac{\\partial u_{i}}{\\partial x_j} \\mathbf{e}_i \\otimes \\mathbf{e}_j=\\mathrm{grad}(\\mathbf{u})=\n",
    "\\begin{bmatrix} \n",
    "\\frac{\\partial u_{1}}{\\partial x_1} & \\frac{\\partial u_{1}}{\\partial x_2} & \\frac{\\partial u_{1}}{\\partial x_3} \\\\\n",
    "\\frac{\\partial u_{2}}{\\partial x_1} & \\frac{\\partial u_{2}}{\\partial x_2} & \\frac{\\partial u_{2}}{\\partial x_3} \\\\\n",
    "\\frac{\\partial u_{3}}{\\partial x_1} & \\frac{\\partial u_{3}}{\\partial x_2} & \\frac{\\partial u_{3}}{\\partial x_3} \\\\\n",
    "\\end{bmatrix} \n",
    "$$\n",
    "I.e. $\\mathbf{\\nabla}\\mathbf{u}$ is a 2nd order tensor containing partial derivatives.   \n",
    "\n",
    "If $\\mathbf{u}$ is a displacement field then $\\mathbf{\\nabla}\\mathbf{u}$ represents a tensor containing derivatives of displacement components (3 components) in all 3 directions (hence 3x3=9 components). \n"
   ]
  },
  {
   "cell_type": "markdown",
   "metadata": {
    "slideshow": {
     "slide_type": "slide"
    }
   },
   "source": [
    "## The deformation gradient tensor\n",
    "The deformation gradient tensor is derived from:\n",
    "$$\\mathbf{F}=\\mathbf{\\nabla}\\mathbf{u}+\\mathbf{I}$$\n",
    "\n",
    "The so-called polar decomposition of the deformation gradient tensor is defined as:\n",
    "$$\\mathbf{F}=\\mathbf{R}\\mathbf{U}=\\mathbf{V}\\mathbf{R}$$\n",
    "\n",
    "Here $\\mathbf{U}$ and $\\mathbf{V}$ are called the **right stretch tensor** and the **left stretch tensor** respectively. The eigenvalues of the stretch tensors are the principal stretches $\\lambda_1$, $\\lambda_2$, and $\\lambda_3$.\n",
    "\n",
    "## The right Cauchy-Green tensor\n",
    "$$\\mathbf{C}=\\mathbf{U}^2=\\mathbf{F}^\\top\\mathbf{F}$$\n",
    "The eigenvalues of $\\mathbf{C}$ are the squared principal stretches $\\lambda_1^2$, $\\lambda_2^2$, and $\\lambda_3^2$."
   ]
  },
  {
   "cell_type": "markdown",
   "metadata": {
    "slideshow": {
     "slide_type": "slide"
    }
   },
   "source": [
    "### DIY numerical implementation"
   ]
  },
  {
   "cell_type": "markdown",
   "metadata": {
    "slideshow": {
     "slide_type": "slide"
    }
   },
   "source": [
    "#### Stretch rotate first stretch using $\\mathbf{V}$"
   ]
  },
  {
   "cell_type": "code",
   "execution_count": 218,
   "metadata": {
    "slideshow": {
     "slide_type": "fragment"
    }
   },
   "outputs": [
    {
     "name": "stdout",
     "output_type": "stream",
     "text": [
      "L =\n",
      "\n",
      "   2.00000   0.50000   1.00000\n",
      "\n",
      "V =\n",
      "\n",
      "   2.00000   0.00000   0.00000\n",
      "   0.00000   0.50000   0.00000\n",
      "   0.00000   0.00000   1.00000\n",
      "\n",
      "F =\n",
      "\n",
      "   1.41421  -1.41421   0.00000\n",
      "   0.35355   0.35355   0.00000\n",
      "   0.00000   0.00000   1.00000\n",
      "\n"
     ]
    }
   ],
   "source": [
    "alpha=pi/4; % Rotation angle\n",
    "R=[cos(alpha) -sin(alpha) 0; sin(alpha)  cos(alpha)  0; 0 0 1]; % Rotation tensor for alpha degrees around Z\n",
    "L=[2 0.5 1] %Stretches for undeformed initial state\n",
    "V=[L(1) 0    0;...\n",
    "   0    L(2) 0;...\n",
    "   0    0    L(3)] % A stretch tensor U\n",
    "F=V*R % Deformation gradient tensor "
   ]
  },
  {
   "cell_type": "code",
   "execution_count": 219,
   "metadata": {
    "slideshow": {
     "slide_type": "slide"
    }
   },
   "outputs": [
    {
     "data": {
      "image/png": "[encoded data removed]",
      "text/plain": [
       "<IPython.core.display.Image object>"
      ]
     },
     "metadata": {},
     "output_type": "display_data"
    }
   ],
   "source": [
    "% Defining a point set\n",
    "[x,y,z]=meshgrid(0:1:1); % 3D point set grids\n",
    "X=[x(:) y(:) z(:)]; % A nx3 point set\n",
    "\n",
    "% Deform the point set with F\n",
    "Xn=(F*X')'; %Xn=Xn+2; % Deform\n",
    "\n",
    "% Visualize \n",
    "l=[1 2 4 3 1 5 6 8 7 5 7 3 4 8 6 2 6 ]; % Line description for plot\n",
    "hf=figure; hold on; % Open figure \n",
    "s=get(hf,'Position'); set(hf,'Position',[0 0 2*s(3) 2*s(4)]); set(gca,'FontSize',2*get(gca,'FontSize'));\n",
    "plot3(X(l,1),X(l,2),X(l,3),'b.-','MarkerSize',50,'LineWidth',10); % Plot initial \n",
    "plot3(Xn(l,1),Xn(l,2),Xn(l,3),'r.-','MarkerSize',50,'LineWidth',10); % Plot initial\n",
    "axis equal; view(3); box on; % Axis settings"
   ]
  },
  {
   "cell_type": "markdown",
   "metadata": {
    "slideshow": {
     "slide_type": "slide"
    }
   },
   "source": [
    "#### Stretch first then rotate using $\\mathbf{U}$"
   ]
  },
  {
   "cell_type": "code",
   "execution_count": 225,
   "metadata": {
    "slideshow": {
     "slide_type": "fragment"
    }
   },
   "outputs": [
    {
     "name": "stdout",
     "output_type": "stream",
     "text": [
      "L =\n",
      "\n",
      "   2.00000   0.50000   1.00000\n",
      "\n",
      "U =\n",
      "\n",
      "   2.00000   0.00000   0.00000\n",
      "   0.00000   0.50000   0.00000\n",
      "   0.00000   0.00000   1.00000\n",
      "\n",
      "F =\n",
      "\n",
      "   1.41421  -0.35355   0.00000\n",
      "   1.41421   0.35355   0.00000\n",
      "   0.00000   0.00000   1.00000\n",
      "\n"
     ]
    }
   ],
   "source": [
    "alpha=pi/4; % Rotation angle\n",
    "R=[cos(alpha) -sin(alpha) 0; sin(alpha)  cos(alpha)  0; 0 0 1]; % Rotation tensor for alpha degrees around Z\n",
    "L=[2 0.5 1] %Stretches for undeformed initial state\n",
    "U=[L(1) 0    0;...\n",
    "   0    L(2) 0;...\n",
    "   0    0    L(3)] % A stretch tensor U\n",
    "F=R*U % Deformation gradient tensor "
   ]
  },
  {
   "cell_type": "code",
   "execution_count": 226,
   "metadata": {
    "slideshow": {
     "slide_type": "slide"
    }
   },
   "outputs": [
    {
     "data": {
      "image/png": "[encoded data removed]",
      "text/plain": [
       "<IPython.core.display.Image object>"
      ]
     },
     "metadata": {},
     "output_type": "display_data"
    }
   ],
   "source": [
    "% Defining a point set\n",
    "[x,y,z]=meshgrid(0:1:1); % 3D point set grids\n",
    "X=[x(:) y(:) z(:)]; % A nx3 point set\n",
    "\n",
    "% Deform the point set with F\n",
    "Xn=(F*X')'; %Xn=Xn+2; % Deform\n",
    "\n",
    "% Visualize \n",
    "l=[1 2 4 3 1 5 6 8 7 5 7 3 4 8 6 2 6 ]; % Line description for plot\n",
    "hf=figure; hold on; % Open figure \n",
    "s=get(hf,'Position'); set(hf,'Position',[0 0 2*s(3) 2*s(4)]); set(gca,'FontSize',2*get(gca,'FontSize'));\n",
    "plot3(X(l,1),X(l,2),X(l,3),'b.-','MarkerSize',50,'LineWidth',10); % Plot initial \n",
    "plot3(Xn(l,1),Xn(l,2),Xn(l,3),'r.-','MarkerSize',50,'LineWidth',10); % Plot initial\n",
    "axis equal; view(3); box on; % Axis settings"
   ]
  },
  {
   "cell_type": "markdown",
   "metadata": {
    "slideshow": {
     "slide_type": "slide"
    }
   },
   "source": [
    "#### Compute displacement gradient"
   ]
  },
  {
   "cell_type": "code",
   "execution_count": 227,
   "metadata": {
    "slideshow": {
     "slide_type": "slide"
    }
   },
   "outputs": [
    {
     "name": "stdout",
     "output_type": "stream",
     "text": [
      "u =\n",
      "\n",
      "   0.00000   0.00000   0.00000\n",
      "  -0.35355  -0.64645   0.00000\n",
      "   0.41421   1.41421   0.00000\n",
      "   0.06066   0.76777   0.00000\n",
      "   0.00000   0.00000   0.00000\n",
      "  -0.35355  -0.64645   0.00000\n",
      "   0.41421   1.41421   0.00000\n",
      "   0.06066   0.76777   0.00000\n",
      "\n",
      "Ux =\n",
      "\n",
      "ans(:,:,1) =\n",
      "\n",
      "   0.00000   0.41421\n",
      "  -0.35355   0.06066\n",
      "\n",
      "ans(:,:,2) =\n",
      "\n",
      "   0.00000   0.41421\n",
      "  -0.35355   0.06066\n",
      "\n"
     ]
    }
   ],
   "source": [
    "% Compute displacement array\n",
    "u=Xn-X \n",
    "\n",
    "% Create displacement component grids\n",
    "Ux=reshape(u(:,1),size(x));\n",
    "Uy=reshape(u(:,2),size(x));\n",
    "Uz=reshape(u(:,3),size(x));\n",
    "\n",
    "Ux %x-displacements in 3D \"grid\" matrix form to allow for gradient operation"
   ]
  },
  {
   "cell_type": "code",
   "execution_count": 230,
   "metadata": {
    "slideshow": {
     "slide_type": "slide"
    }
   },
   "outputs": [
    {
     "name": "stdout",
     "output_type": "stream",
     "text": [
      "grad_u =\r\n",
      "\r\n",
      "   0.41421  -0.35355   0.00000\r\n",
      "   1.41421  -0.64645   0.00000\r\n",
      "   0.00000   0.00000   0.00000\r\n",
      "\r\n"
     ]
    }
   ],
   "source": [
    "%Computing the displacement gradient tensor \n",
    "\n",
    "% Compute gradient components\n",
    "[Ugxx,Ugxy,Ugxz] = gradient(Ux,1,1,1);\n",
    "[Ugyx,Ugyy,Ugyz] = gradient(Uy,1,1,1);\n",
    "[Ugzx,Ugzy,Ugzz] = gradient(Uz,1,1,1);\n",
    "\n",
    "% Compose gradient set\n",
    "UG=[Ugxx(:) Ugyx(:) Ugzx(:)...\n",
    "    Ugxy(:) Ugyy(:) Ugzy(:)...\n",
    "    Ugxz(:) Ugyz(:) Ugzz(:)];\n",
    "\n",
    "UG=reshape(UG',3,3,size(UG,1)); % Reshape as 3x3xn\n",
    "\n",
    "grad_u=UG(:,:,1) %Select first as an example"
   ]
  },
  {
   "cell_type": "code",
   "execution_count": 232,
   "metadata": {},
   "outputs": [
    {
     "name": "stdout",
     "output_type": "stream",
     "text": [
      "F =\n",
      "\n",
      "   1.41421  -0.35355   0.00000\n",
      "   1.41421   0.35355   0.00000\n",
      "   0.00000   0.00000   1.00000\n",
      "\n",
      "Fp =\n",
      "\n",
      "   1.41421  -0.35355   0.00000\n",
      "   1.41421   0.35355   0.00000\n",
      "   0.00000   0.00000   1.00000\n",
      "\n",
      "C =\n",
      "\n",
      "   4.00000  -0.00000   0.00000\n",
      "  -0.00000   0.25000   0.00000\n",
      "   0.00000   0.00000   1.00000\n",
      "\n",
      "L =\n",
      "\n",
      "   0.50000\n",
      "   1.00000\n",
      "   2.00000\n",
      "\n"
     ]
    }
   ],
   "source": [
    "%Reconstructing F and the principal stretches\n",
    "I=eye(3,3); %The identity tensor\n",
    "F %Original F\n",
    "Fp=grad_u+I %Compute deformation gradient tensor from displacement gradient"
   ]
  },
  {
   "cell_type": "markdown",
   "metadata": {
    "slideshow": {
     "slide_type": "slide"
    }
   },
   "source": [
    "# Principal components and eigen decomposition\n",
    "The \"spectral decomposition\" or eigen decomposition of symmetric 2nd order tensor computes its eigenvalues and eigenvectors. \n",
    "E.g. for $\\mathbf{U}$ and $\\mathbf{C}$\n",
    "\n",
    "$$\\mathbf{U}=\\sum_{i=1}^{3}\\lambda_i (n_i \\otimes n_i)$$\n",
    "$$\\mathbf{C}=\\sum_{i=1}^{3}\\lambda_i^2 (n_i \\otimes n_i)$$"
   ]
  },
  {
   "cell_type": "markdown",
   "metadata": {
    "slideshow": {
     "slide_type": "slide"
    }
   },
   "source": [
    "### DIY numerical implementation"
   ]
  },
  {
   "cell_type": "code",
   "execution_count": 234,
   "metadata": {
    "slideshow": {
     "slide_type": "fragment"
    }
   },
   "outputs": [
    {
     "name": "stdout",
     "output_type": "stream",
     "text": [
      "C =\n",
      "\n",
      "   4.00000  -0.00000   0.00000\n",
      "  -0.00000   0.25000   0.00000\n",
      "   0.00000   0.00000   1.00000\n",
      "\n",
      "L =\n",
      "\n",
      "   0.50000\n",
      "   1.00000\n",
      "   2.00000\n",
      "\n",
      "U =\n",
      "\n",
      "   2.00000   0.00000   0.00000\n",
      "   0.00000   0.50000   0.00000\n",
      "   0.00000   0.00000   1.00000\n",
      "\n",
      "U_rot =\n",
      "\n",
      "   1.25000   0.75000   0.00000\n",
      "   0.75000   1.25000   0.00000\n",
      "   0.00000   0.00000   1.00000\n",
      "\n",
      "v =\n",
      "\n",
      "Diagonal Matrix\n",
      "\n",
      "   0.50000         0         0\n",
      "         0   1.00000         0\n",
      "         0         0   2.00000\n",
      "\n",
      "U_r =\n",
      "\n",
      "   1.25000   0.75000   0.00000\n",
      "   0.75000   1.25000   0.00000\n",
      "   0.00000   0.00000   1.00000\n",
      "\n"
     ]
    }
   ],
   "source": [
    "C=F'*F %The right Cauchy green tensor\n",
    "[Q,Lsq]=eig(C); %The eigen decomposition\n",
    "L=sqrt(diag(Lsq)) % The principal stretches"
   ]
  },
  {
   "cell_type": "code",
   "execution_count": 128,
   "metadata": {
    "slideshow": {
     "slide_type": "slide"
    }
   },
   "outputs": [
    {
     "name": "stdout",
     "output_type": "stream",
     "text": [
      "A =\n",
      "\n",
      "   1.25000   0.75000   0.00000\n",
      "   0.75000   1.25000   0.00000\n",
      "   0.00000   0.00000   1.00000\n",
      "\n",
      "Um =\n",
      "\n",
      "   2.00000  -0.00000   0.00000\n",
      "  -0.00000   0.50000   0.00000\n",
      "   0.00000   0.00000   1.00000\n",
      "\n"
     ]
    }
   ],
   "source": [
    "% \"manually find\" eigen system\n",
    "alpha=-pi/4; % Rotation angle\n",
    "R=[cos(alpha) -sin(alpha) 0; sin(alpha)  cos(alpha)  0; 0 0 1]; % Rotation tensor for alpha degrees around Z\n",
    "\n",
    "A\n",
    "Um=R*A*R'     "
   ]
  },
  {
   "cell_type": "markdown",
   "metadata": {
    "slideshow": {
     "slide_type": "slide"
    }
   },
   "source": [
    "# Strain\n",
    "## The infinitesimal (or small) strain tensor:   \n",
    "A strain tensor for small or infinitesimal motions (not just small deformations!)\n",
    "$$\\mathbf{\\varepsilon}=\\frac{1}{2}(\\mathbf{\\nabla}\\mathbf{u}+\\mathbf{\\nabla}\\mathbf{u}^\\top)$$\n",
    "\n",
    "What is wrong with it? Not valid for finite motions and deformations. E.g. it has magnitude for rigid body rotations\n"
   ]
  },
  {
   "cell_type": "markdown",
   "metadata": {
    "slideshow": {
     "slide_type": "slide"
    }
   },
   "source": [
    "## The Green-Lagrange strain tensor: \n",
    "$$\\mathbf{E}=\\frac{1}{2}(\\mathbf{C}-\\mathbf{I})=\\frac{1}{2}(\\mathbf{U}^2-\\mathbf{I})=\\frac{1}{2}(\\mathbf{F}^\\top\\mathbf{F}-\\mathbf{I})$$\n",
    "The principal components can be written in terms of the principal stretches as:\n",
    "$$E_i=\\frac{1}{2}(\\lambda_i^2-1)$$\n"
   ]
  },
  {
   "cell_type": "markdown",
   "metadata": {
    "slideshow": {
     "slide_type": "slide"
    }
   },
   "source": [
    "## Side note: Other large deformation strain tensors\n",
    "A general class (the so-called Seth-Hill class) of strain types is given by: \n",
    "$$\\mathbf{E}=\\begin{cases} \\frac{1}{m}(\\mathbf{U}^m-\\mathbf{I}) & m\\neq0 \\\\ \\ln(\\mathbf{U}) & m=0\\end{cases}$$\n",
    "If $m=2$ the Green-Lagrang strain is obtained.\n",
    "\n",
    "![](strainsMoerman.jpg)\n",
    "\n",
    "_K. M. Moerman, C. K. Simms, and T. Nagel, “Control of tension-compression asymmetry in Ogden hyperelasticity with application to soft tissue modelling,” J. Mech. Behav. Biomed. Mater., vol. 56, pp. 218–228, Mar. 2016, doi: [10.1016/j.jmbbm.2015.11.027](https://arxiv.org/abs/1512.03654)._\n"
   ]
  },
  {
   "cell_type": "markdown",
   "metadata": {
    "slideshow": {
     "slide_type": "slide"
    }
   },
   "source": [
    "### DIY numerical implementation\n",
    "Infinitesimal strain: \n",
    "$$\\mathbf{\\varepsilon}=\\frac{1}{2}(\\mathbf{\\nabla}\\mathbf{u}+\\mathbf{\\nabla}\\mathbf{u}^\\top)$$"
   ]
  },
  {
   "cell_type": "code",
   "execution_count": 129,
   "metadata": {
    "slideshow": {
     "slide_type": "fragment"
    }
   },
   "outputs": [
    {
     "name": "stdout",
     "output_type": "stream",
     "text": [
      "E_small =\r\n",
      "\r\n",
      "   0.41421   0.53033   0.00000\r\n",
      "   0.53033  -0.64645   0.00000\r\n",
      "   0.00000   0.00000   0.00000\r\n",
      "\r\n"
     ]
    }
   ],
   "source": [
    "E_small=0.5*(grad_u+grad_u') % Infinitesimal strain tensor"
   ]
  },
  {
   "cell_type": "markdown",
   "metadata": {
    "slideshow": {
     "slide_type": "fragment"
    }
   },
   "source": [
    "Green-Lagrange strain\n",
    "$$\\mathbf{E_{GL}}=\\frac{1}{2}(\\mathbf{C}-\\mathbf{I})$$"
   ]
  },
  {
   "cell_type": "code",
   "execution_count": 130,
   "metadata": {
    "slideshow": {
     "slide_type": "fragment"
    }
   },
   "outputs": [
    {
     "name": "stdout",
     "output_type": "stream",
     "text": [
      "C =\n",
      "\n",
      "   2.12500   1.87500   0.00000\n",
      "   1.87500   2.12500   0.00000\n",
      "   0.00000   0.00000   1.00000\n",
      "\n",
      "E_GL =\n",
      "\n",
      "   0.56250   0.93750   0.00000\n",
      "   0.93750   0.56250   0.00000\n",
      "   0.00000   0.00000   0.00000\n",
      "\n"
     ]
    }
   ],
   "source": [
    "% Green-Lagrange strain tensor\n",
    "C\n",
    "E_GL=0.5*(C-I) "
   ]
  },
  {
   "cell_type": "markdown",
   "metadata": {
    "slideshow": {
     "slide_type": "fragment"
    }
   },
   "source": [
    "Logarithmic (natural or true) strain\n",
    "$$\\mathbf{E_{log}}=\\ln(\\mathbf{U})$$"
   ]
  },
  {
   "cell_type": "code",
   "execution_count": 137,
   "metadata": {
    "slideshow": {
     "slide_type": "fragment"
    }
   },
   "outputs": [
    {
     "name": "stdout",
     "output_type": "stream",
     "text": [
      "ans =\n",
      "\n",
      "   4.00000   0.00000   0.00000\n",
      "   0.00000   0.25000   0.00000\n",
      "   0.00000   0.00000   1.00000\n",
      "\n",
      "C =\n",
      "\n",
      "   2.12500   1.87500   0.00000\n",
      "   1.87500   2.12500   0.00000\n",
      "   0.00000   0.00000   1.00000\n",
      "\n",
      "E_log =\n",
      "\n",
      "   0.69315   0.00000   0.00000\n",
      "   0.00000  -0.69315   0.00000\n",
      "   0.00000   0.00000   0.00000\n",
      "\n",
      "E_log =\n",
      "\n",
      "   0.49013  -0.49013   0.00000\n",
      "  -0.49013  -0.49013   0.00000\n",
      "   0.00000   0.00000   0.00000\n",
      "\n"
     ]
    }
   ],
   "source": [
    "% Logarithmic natural or Henky strain tensor \n",
    "U.*U\n",
    "C\n",
    "E_log=eye(3,3); %Initialise as identify matrix\n",
    "E_log(E_log>0)=log(diag(U)) %Place log of principal stretches on the diagonal\n",
    "E_log=R*E_log"
   ]
  },
  {
   "cell_type": "markdown",
   "metadata": {
    "slideshow": {
     "slide_type": "slide"
    }
   },
   "source": [
    "# Decomposition into spherical and deviatoric components\n",
    "* We have already seen the trace of a 2nd order tensor tensor, it yields a scalar value:\n",
    "\n",
    "$$a=\\mathrm{tr}(\\mathbf{A})=A_{11}+A_{22}+A_{33}=A_1+A_2+A_3$$\n",
    "\n",
    "* The trace is an _invariant_ of a tensor i.e. it does not depend on coordinate system  \n",
    " \n",
    "* The trace has a physical meaning as it relates to \"spherical\" or volumetric deformations, or hydrostatic components. \n",
    "\n",
    "* The so-called _spherical_ part of a 2nd order tensor: \n",
    "$$\\mathrm{sph}(\\mathbf{A})=\\frac{1}{3}\\mathrm{tr}(\\mathbf{A})\\mathbf{I}$$\n",
    "\n",
    "* This leads to the definition of the so-called _deviatoric_ part of a 2nd order tensor: \n",
    "$$\\mathrm{dev}(\\mathbf{A})=\\mathbf{A}-\\mathrm{sph}(\\mathbf{A})=\\mathbf{A}-\\frac{1}{3}\\mathrm{tr}(\\mathbf{A})\\mathbf{I}$$\n",
    "\n",
    "* Any 2nd order tensor can be defined as the sum of its spherical and deviatoric parts:\n",
    "$$\\mathbf{A}=\\mathrm{dev}(\\mathbf{A})+\\mathrm{sph}(\\mathbf{A})$$\n"
   ]
  },
  {
   "cell_type": "code",
   "execution_count": 104,
   "metadata": {},
   "outputs": [
    {
     "name": "stdout",
     "output_type": "stream",
     "text": [
      "A =\n",
      "\n",
      "   1.25000   0.75000   0.00000\n",
      "   0.75000   1.25000   0.00000\n",
      "   0.00000   0.00000   1.00000\n",
      "\n",
      "trace_A =  3.5000\n",
      "U =\n",
      "\n",
      "   2.00000   0.00000   0.00000\n",
      "   0.00000   0.50000   0.00000\n",
      "   0.00000   0.00000   1.00000\n",
      "\n",
      "trace_U =  3.5000\n"
     ]
    }
   ],
   "source": [
    "A\n",
    "trace_A=trace(A)\n",
    "U\n",
    "trace_U=trace(U)"
   ]
  },
  {
   "cell_type": "markdown",
   "metadata": {
    "slideshow": {
     "slide_type": "slide"
    }
   },
   "source": [
    "# Deviatoric and volumetric deformations\n",
    "In the case of logarithmic strain $\\mathbf{E}=\\ln(\\mathbf{U})$ the beforementioned additive split decomposes the tensor into the _volumetric strain_ (spherical part) and _deviatoric strain_ (deviatoric part). \n",
    "\n",
    "## The volumetric strain\n",
    "This strain is responsible for volume change only:\n",
    "$$\\mathbf{E}_{vol}=\\frac{1}{3}\\mathrm{tr}(\\mathbf{E})\\mathbf{I}$$\n",
    "\n",
    "## The deviatoric or isochoric (=volume preserving) strain\n",
    "This strain is responsible for shape change only:\n",
    "$$\\mathbf{E}_{dev}=\\mathbf{E}-\\mathbf{E}_{vol}=\\mathbf{E}-\\frac{1}{3}\\mathrm{tr}(\\mathbf{E})\\mathbf{I}$$"
   ]
  },
  {
   "cell_type": "markdown",
   "metadata": {
    "slideshow": {
     "slide_type": "slide"
    }
   },
   "source": [
    "# Deviatoric and volumetric stress\n",
    "In the case of the Cauchy stress $\\boldsymbol{\\sigma}$ the beforementioned additive split decomposes the tensor into the _volumetric stress_ (spherical part) and _deviatoric stress_ (deviatoric part). \n",
    "\n",
    "## The volumetric stress and the hydrostatic pressure\n",
    "This stress is associated with volume change only:\n",
    "$$\\boldsymbol{\\sigma}_{vol}=\\frac{1}{3}\\mathrm{tr}(\\boldsymbol{\\sigma})\\mathbf{I}=-p\\mathbf{I}$$\n",
    "Where $p$ represents the hydrostatic pressure.\n",
    "\n",
    "## The deviatoric stress\n",
    "This stress is associated with shape change only:\n",
    "$$\\boldsymbol{\\sigma}_{dev}=\\boldsymbol{\\sigma}-\\boldsymbol{\\sigma}_{vol}=\\boldsymbol{\\sigma}-\\frac{1}{3}\\mathrm{tr}(\\boldsymbol{\\sigma})\\mathbf{I}$$"
   ]
  },
  {
   "cell_type": "markdown",
   "metadata": {
    "slideshow": {
     "slide_type": "slide"
    }
   },
   "source": [
    "# General volumetric and deviatoric deformation metrics\n",
    "## Revisiting the logarithmic strain tensor\n",
    "For the logarithmic strain $\\mathbf{E}=\\ln{(\\mathbf{U})}$: \n",
    "$$\\tilde{\\mathbf{E}}=\\mathbf{E}_{dev}=\\mathbf{E}-\\frac{1}{3}\\mathrm{tr}(\\mathbf{E})\\mathbf{I}=\\mathbf{\\ln{(\\mathbf{U})}}-\\frac{1}{3}\\mathrm{tr}\\big(\\mathbf{\\ln{(\\mathbf{U})}}\\big)\\mathbf{I}$$\n",
    "\n",
    "$$=\\mathbf{\\ln{(\\mathbf{U})}}-\\frac{1}{3}\\big(\\ln{(\\lambda_1)}+\\ln{(\\lambda_2)}+\\ln{(\\lambda_3)}\\big)\\mathbf{I}$$\n",
    "\n",
    "$$=\\mathbf{\\ln{(\\mathbf{U})}}-\\frac{1}{3}(\\ln{(\\lambda_1\\lambda_2\\lambda_3)})\\mathbf{I}=\\mathbf{\\ln{(\\mathbf{U})}}-\\frac{1}{3}(\\ln{(J)})\\mathbf{I}$$\n",
    "\n",
    "$$=\\mathbf{\\ln{(\\mathbf{U})}}+\\ln{(J^{-\\frac{1}{3}})}\\mathbf{I}=\\ln{(J^{-\\frac{1}{3}}\\mathbf{\\mathbf{U}})}$$\n",
    "Here use was made of: \n",
    "The quantity $J$ is the volume ratio and is also referred to as the Jacobian. It is defined as: \n",
    "$$J=\\det{(\\mathbf{U})}=\\det{(\\mathbf{F})}=\\lambda_1\\lambda_2\\lambda_3$$\n",
    "\n",
    "Therefore, for deformations, the deviatoric-volumetric split involves multiplication of stretches with $J^{-\\frac{1}{3}}$:\n",
    "$$\\tilde{\\lambda_i}=J^{-\\frac{1}{3}}\\lambda_i$$\n"
   ]
  },
  {
   "cell_type": "markdown",
   "metadata": {
    "slideshow": {
     "slide_type": "slide"
    }
   },
   "source": [
    "## Other deviatoric deformation tensors\n",
    "The conclusion $\\tilde{\\lambda_i}=J^{-\\frac{1}{3}}\\lambda_i$ allows for the computation of other deviatoric deformation metrics. For instance for the deformation gradient tensor $\\mathbf{F}=\\mathbf{F}_{dev}+\\mathbf{F}_{vol}$: \n",
    "$$\\tilde{\\mathbf{F}}=\\mathbf{F}_{dev}=J^{-\\frac{1}{3}}\\mathbf{F}$$\n",
    "Which leads to: \n",
    "$$\\mathbf{F}_{vol}=\\mathbf{F}-\\mathbf{F}_{dev}=\\mathbf{F}-J^{-\\frac{1}{3}}\\mathbf{F}$$\n",
    "\n",
    "From this definition other deformation metrics can be identified e.g. for the right Caughy green tensor $\\mathbf{C}=\\mathbf{F}^\\top\\mathbf{F}$: \n",
    "$$\\mathbf{C}_{dev}=J^{-\\frac{2}{3}}\\mathbf{C}=\\tilde{\\mathbf{C}}$$   \n"
   ]
  },
  {
   "cell_type": "markdown",
   "metadata": {
    "slideshow": {
     "slide_type": "slide"
    }
   },
   "source": [
    "## Hooke's law of linear elasticity\n",
    "Hooke's law for a linear elastic solid is usually written in terms of the Cauchy stress as:\n",
    "$$\\boldsymbol{\\sigma}=\\mathbf{\\mathbb{C}}:\\boldsymbol{\\varepsilon}$$\n",
    "\n",
    "$$\\sigma_{ij}=C_{ijkl}\\varepsilon_{kl}$$\n",
    "\n",
    "This is the most general form of Hooke's law and could include anisotropy. \n",
    "Here $\\mathbf{\\mathbb{C}}$ is the 4th order (3x3x3x3) stiffness tensor and is \"super-summetric\" since: \n",
    "$$C_{ijkl}=C_{jikl}=C_{klij}$$\n",
    "\n",
    "* The stiffness tensor entries relate to particular stiffness constants and also orientation and deformation mode information.   \n",
    "\n",
    "* Up to 6 distict deformation modes (e.g. allong fibre strain, across fiber strain, etc.) and associated stiffness constants are contained in the the tensor.   \n",
    "\n",
    "* For an isotropic material (where the stiffness does not depend on direction) the stiffness tensor has two eigenvalues $\\mu$ and $\\kappa$, which are the material shear-modulus and bulk-modulus respectively. \n",
    "\n",
    "* The associated strain modes the tensor \"picks out\" to go allong with these parameters is the deviatoric deformation and the volumetric deformation respectively. \n"
   ]
  },
  {
   "cell_type": "markdown",
   "metadata": {
    "slideshow": {
     "slide_type": "slide"
    }
   },
   "source": [
    "## Hooke's law of linear elasticity\n",
    "Hooke's law for a linear elastic solid is usually written in terms of the Cauchy stress as:\n",
    "$$\\boldsymbol{\\sigma}=\\mathbf{\\mathbb{C}}:\\boldsymbol{\\varepsilon}$$\n",
    "\n",
    "$$\\sigma_{ij}=C_{ijkl}\\varepsilon_{kl}$$\n",
    "\n",
    "\n",
    "![](C_hooke_2.png)"
   ]
  },
  {
   "cell_type": "code",
   "execution_count": 105,
   "metadata": {
    "slideshow": {
     "slide_type": "slide"
    }
   },
   "outputs": [],
   "source": [
    "function [S]=doubleContract(C,E)\n",
    "\n",
    "S=zeros(size(E)); %Initialise as all zeros\n",
    "for i=1:1:3 %Loop over i-index\n",
    "    for j=1:1:3 %Loop over j-index    \n",
    "        for k=1:1:3 %Loop over k-index\n",
    "            for l=1:1:3 %Loop over l-index                        \n",
    "                S(i,j) = S(i,j) + C(i,j,k,l)*E(k,l); %Sum up contributions                                \n",
    "            end\n",
    "        end        \n",
    "    end\n",
    "end\n",
    "\n",
    "end"
   ]
  },
  {
   "cell_type": "code",
   "execution_count": 106,
   "metadata": {
    "slideshow": {
     "slide_type": "fragment"
    }
   },
   "outputs": [
    {
     "name": "stdout",
     "output_type": "stream",
     "text": [
      "S =\r\n",
      "\r\n",
      "   0.086532   0.072065   0.088604\r\n",
      "   0.056990   0.027996   0.094989\r\n",
      "   0.053206   0.058234   0.039335\r\n",
      "\r\n"
     ]
    }
   ],
   "source": [
    "E=[0.1 0 0;...\n",
    "   0   0 0;...\n",
    "   0   0 0];\n",
    "\n",
    "C=rand(3,3,3,3); %A random 3x3x3x3 array (not a valid 4th order stiffness, just example)\n",
    "\n",
    "S=doubleContract(C,E)"
   ]
  },
  {
   "cell_type": "markdown",
   "metadata": {
    "slideshow": {
     "slide_type": "slide"
    }
   },
   "source": [
    "\n",
    "The strain energy density function $\\Psi$  (units of energy per volume), for Hooke's law of a linear elastic solid is given by:\n",
    "$$\\Psi=\\frac{1}{2}\\mathbf{\\mathbb{C}}:\\boldsymbol{\\varepsilon}:\\boldsymbol{\\varepsilon}=\\frac{1}{2}\\mathbf{\\sigma}:\\boldsymbol{\\varepsilon}$$\n",
    "\n",
    "$$\\Psi=\\frac{1}{2}C_{ijkl}\\varepsilon_{kl}\\varepsilon_{ij}=\\frac{1}{2}\\sigma_{ij}\\varepsilon_{ij}$$\n",
    "\n",
    "Alternatively the Cauchy stress can be derived from: \n",
    "$$\\boldsymbol{\\sigma}=\\frac{\\partial \\Psi}{\\partial \\boldsymbol{\\varepsilon}}$$\n"
   ]
  },
  {
   "cell_type": "markdown",
   "metadata": {
    "slideshow": {
     "slide_type": "slide"
    }
   },
   "source": [
    "## Hooke's law for a linear elastic isotropic material\n",
    "\n",
    "* The scalar strain energy density (energy per volume unit) for a linear elastic and isotropic Hookean solid is: \n",
    "$$\\Psi=\\mu \\mathrm{tr}(\\mathrm{dev}(\\boldsymbol{\\varepsilon})^2)+\\frac{\\kappa}{2}\\mathrm{tr}(\\mathrm{sph}(\\boldsymbol{\\varepsilon})^2) $$  \n",
    "  \n",
    "* $\\mu$ is the shear modulus (resistance to pure shape change), sometimes called $G$\n",
    "  \n",
    "  \n",
    "* $\\kappa$ is the bulk modulus (resistance to pure volume change)\n",
    "   \n",
    "   \n",
    "* The Cauchy stress can be derived using $\\boldsymbol{\\sigma}=\\frac{\\partial \\Psi}{\\partial \\boldsymbol{\\varepsilon}}$, which leads to: \n",
    "\n",
    "$$\\boldsymbol{\\sigma}=2\\mu \\mathrm{dev}(\\boldsymbol{\\varepsilon})+3\\kappa\\mathrm{sph}(\\boldsymbol{\\varepsilon})$$  \n",
    "\n",
    "* The above are isotropic \"eigen stiffness\" parameters, you may be more familiar with the Youngs modulus $E$ and the Poisson's ratio $\\nu$ which can be derived from them: \n",
    " \n",
    "$$E=\\frac{9 \\kappa \\mu}{3\\kappa+\\mu}$$  \n",
    "\n",
    "$$\\nu=\\frac{3 \\kappa-2 \\mu}{2(3\\kappa+\\mu)}$$\n",
    "\n",
    "* Or the inverse relationship: \n",
    "$$\\mu=\\frac{E}{2(1+\\nu)}$$  \n",
    "\n",
    "$$\\kappa=\\frac{E}{3(1-2\\nu)}$$  \n",
    "\n",
    "* What a happens when $\\nu=0.5$? $\\mu=\\frac{E}{3}$ and $\\kappa=\\frac{E}{0}=\\infty$....\n",
    "\n",
    "_See table all the way at the end of the [Wikipedia page for the Poisson's ratio](https://en.wikipedia.org/wiki/Poisson%27s_ratio;)_ "
   ]
  },
  {
   "cell_type": "markdown",
   "metadata": {
    "slideshow": {
     "slide_type": "slide"
    }
   },
   "source": [
    "## Hooke's law for a linear elastic isotropic material\n",
    "\n",
    "* The strain energy for a linear elastic and isotropic Hookean solid is: \n",
    "$$\\Psi=\\mu \\mathrm{tr}(\\mathrm{dev}(\\boldsymbol{\\varepsilon})^2)+\\frac{\\kappa}{2}\\mathrm{tr}(\\mathrm{sph}(\\boldsymbol{\\varepsilon})^2) $$  \n",
    "  \n",
    "\n",
    "* Using $\\boldsymbol{\\sigma}=\\frac{\\partial \\Psi}{\\partial \\boldsymbol{\\varepsilon}}$ provides the Cauchy stress as: \n",
    "$$\\boldsymbol{\\sigma}=2\\mu \\mathrm{dev}(\\boldsymbol{\\varepsilon})+3\\kappa\\mathrm{sph}(\\boldsymbol{\\varepsilon})$$  \n",
    "\n",
    "* Which can be rewritten:   \n",
    "$$\\boldsymbol{\\sigma}=2\\mu (\\boldsymbol{\\varepsilon}-\\frac{1}{3}\\mathrm{tr}(\\boldsymbol{\\varepsilon})\\mathbf{I})+3\\kappa(\\frac{1}{3}\\mathrm{tr}(\\boldsymbol{\\varepsilon})\\mathbf{I}))=2\\mu (\\boldsymbol{\\varepsilon}-\\frac{1}{3}\\mathrm{tr}(\\boldsymbol{\\varepsilon})\\mathbf{I})+\\kappa(\\mathrm{tr}(\\boldsymbol{\\varepsilon})\\mathbf{I}))$$\n",
    " \n",
    " $$\\sigma_{ij}=C_{ijkl}\\varepsilon_{kl}$$\n",
    " \n",
    "![](C_hooke.png)"
   ]
  }
 ],
 "metadata": {
  "@webio": {
   "lastCommId": null,
   "lastKernelId": null
  },
  "celltoolbar": "Slideshow",
  "kernelspec": {
   "display_name": "Octave",
   "language": "octave",
   "name": "octave"
  },
  "language_info": {
   "file_extension": ".m",
   "help_links": [
    {
     "text": "GNU Octave",
     "url": "https://www.gnu.org/software/octave/support.html"
    },
    {
     "text": "Octave Kernel",
     "url": "https://github.com/Calysto/octave_kernel"
    },
    {
     "text": "MetaKernel Magics",
     "url": "https://metakernel.readthedocs.io/en/latest/source/README.html"
    }
   ],
   "mimetype": "text/x-octave",
   "name": "octave",
   "version": "5.2.0"
  },
  "rise": {
   "enable_chalkboard": true
  }
 },
 "nbformat": 4,
 "nbformat_minor": 2
}
